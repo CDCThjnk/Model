{
 "cells": [
  {
   "cell_type": "code",
   "execution_count": 26,
   "id": "9cd325bd",
   "metadata": {},
   "outputs": [],
   "source": [
    "import pandas as pd\n",
    "import seaborn as sns\n",
    "import matplotlib.pyplot as plt\n",
    "import numpy as np\n",
    "import ast\n",
    "import re\n",
    "from scipy.stats import chi2_contingency\n",
    "from helper_function import *"
   ]
  },
  {
   "cell_type": "code",
   "execution_count": 27,
   "id": "279dee11",
   "metadata": {},
   "outputs": [],
   "source": [
    "df_with_role = pd.read_csv('cleaned_astronaut_data_complete.csv')\n",
    "\n",
    "df_roles = df_with_role[['cleaned_name', 'Mission.Role']].copy().dropna()\n",
    "df_roles['Mission.Role'] = df_roles['Mission.Role'].str.lower().replace(\n",
    "    {'other': 'tourist', 'spaceflight participant': 'tourist', 'participant': 'tourist', 'tourist': 'tourist', \n",
    "        'other (space tourist)': 'tourist', 'other (journalist)': 'journalist'\n",
    "    }\n",
    ")\n",
    "df_roles['cleaned_name'] = df_roles['cleaned_name'].apply(remove_dotted_words)\n"
   ]
  },
  {
   "cell_type": "code",
   "execution_count": 28,
   "id": "fdb2dc0b",
   "metadata": {},
   "outputs": [],
   "source": [
    "df_roles.to_csv('astronauts_with_roles.csv', index=False)"
   ]
  },
  {
   "cell_type": "code",
   "execution_count": 29,
   "id": "5d26de8b",
   "metadata": {},
   "outputs": [],
   "source": [
    "df = pd.read_csv('astronauts.csv').drop(columns=['time_in_space'])\n",
    "df['name'] = df['name'].apply(remove_dotted_words)\n"
   ]
  },
  {
   "cell_type": "code",
   "execution_count": 30,
   "id": "f8c85642",
   "metadata": {},
   "outputs": [],
   "source": [
    "df = pd.merge(df, df_roles, left_on='name', right_on='cleaned_name', how='inner')"
   ]
  },
  {
   "cell_type": "code",
   "execution_count": 31,
   "id": "af9597ef",
   "metadata": {},
   "outputs": [],
   "source": [
    "df.to_csv('astronauts_with_roles_final.csv', index=False)"
   ]
  }
 ],
 "metadata": {
  "kernelspec": {
   "display_name": "Python 3",
   "language": "python",
   "name": "python3"
  },
  "language_info": {
   "codemirror_mode": {
    "name": "ipython",
    "version": 3
   },
   "file_extension": ".py",
   "mimetype": "text/x-python",
   "name": "python",
   "nbconvert_exporter": "python",
   "pygments_lexer": "ipython3",
   "version": "3.12.3"
  }
 },
 "nbformat": 4,
 "nbformat_minor": 5
}
